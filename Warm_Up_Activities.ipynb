{
  "cells": [
    {
      "cell_type": "markdown",
      "metadata": {
        "id": "ciURNbYudz9t"
      },
      "source": [
        "# Warm Up Activities\n",
        "\n",
        "In this notebook you'll find a few different exercises combining dictionaries and lists in order to practice before the main activity of this project, Football Dictionaries."
      ]
    },
    {
      "cell_type": "markdown",
      "metadata": {
        "id": "-v3Q3CPAdz9v"
      },
      "source": [
        "## 1. Transform a user into a dictionary\n",
        "\n",
        "Write a function `build_user_as_dict` that receives three parameters (`name, email, age`) and returns a dictionary:"
      ]
    },
    {
      "cell_type": "markdown",
      "metadata": {
        "id": "3veaYx1Fdz9w"
      },
      "source": [
        "##### ## Your Task ##"
      ]
    },
    {
      "cell_type": "code",
      "execution_count": 1,
      "metadata": {
        "id": "bU-Jhtctdz9w"
      },
      "outputs": [],
      "source": [
        "def build_user_as_dict(name, email, age):\n",
        "    return dict({\n",
        "        'name':name,\n",
        "        'email':email,\n",
        "        'age':age\n",
        "    })"
      ]
    },
    {
      "cell_type": "markdown",
      "metadata": {
        "id": "Lv5DHBMxdz9x"
      },
      "source": [
        "##### Examples:\n",
        "\n",
        "The following code"
      ]
    },
    {
      "cell_type": "code",
      "execution_count": 2,
      "metadata": {
        "colab": {
          "base_uri": "https://localhost:8080/"
        },
        "id": "WoqOLGKJdz9x",
        "outputId": "e858e627-e0e1-4b67-f306-323d563ba9a6"
      },
      "outputs": [
        {
          "output_type": "execute_result",
          "data": {
            "text/plain": [
              "{'name': 'John', 'email': 'john@gmail.com', 'age': 31}"
            ]
          },
          "metadata": {},
          "execution_count": 2
        }
      ],
      "source": [
        "build_user_as_dict('John', 'john@gmail.com', 31)"
      ]
    },
    {
      "cell_type": "markdown",
      "metadata": {
        "id": "9n3RQLnodz9y"
      },
      "source": [
        "should produce this output:"
      ]
    },
    {
      "cell_type": "code",
      "execution_count": 3,
      "metadata": {
        "colab": {
          "base_uri": "https://localhost:8080/"
        },
        "id": "QStewhTLdz9y",
        "outputId": "9a163697-cb36-4feb-8c39-86035b9f8732"
      },
      "outputs": [
        {
          "output_type": "execute_result",
          "data": {
            "text/plain": [
              "{'name': 'John', 'email': 'john@gmail.com', 'age': 31}"
            ]
          },
          "metadata": {},
          "execution_count": 3
        }
      ],
      "source": [
        "{\n",
        "    'name': 'John',\n",
        "    'email': 'john@gmail.com',\n",
        "    'age': 31\n",
        "}"
      ]
    },
    {
      "cell_type": "markdown",
      "metadata": {
        "id": "qp9FSw40dz9y"
      },
      "source": [
        "##### == Tests =="
      ]
    },
    {
      "cell_type": "code",
      "execution_count": 4,
      "metadata": {
        "id": "ZjySP4Zkdz9y"
      },
      "outputs": [],
      "source": [
        "assert build_user_as_dict('John', 'john@gmail.com', 31) == {\n",
        "    'name': 'John',\n",
        "    'email': 'john@gmail.com',\n",
        "    'age': 31\n",
        "}"
      ]
    },
    {
      "cell_type": "code",
      "execution_count": 5,
      "metadata": {
        "id": "cNKwarW0dz9z"
      },
      "outputs": [],
      "source": [
        "assert build_user_as_dict('Mary', 'mary@hotmail.com', 28) == {\n",
        "    'name': 'Mary',\n",
        "    'email': 'mary@hotmail.com',\n",
        "    'age': 28\n",
        "}"
      ]
    },
    {
      "cell_type": "markdown",
      "metadata": {
        "id": "9GXHswaldz9z"
      },
      "source": [
        "---\n",
        "\n",
        "## 2. Transform list into dictionary\n",
        "\n",
        "The function `transform_user_list_to_dict` receives a list with the user information and transforms it into a dictionary.\n",
        "\n",
        "Here's an example list, as you can see, the name is in the first position, email in 2nd and age in 3rd:"
      ]
    },
    {
      "cell_type": "code",
      "execution_count": 6,
      "metadata": {
        "colab": {
          "base_uri": "https://localhost:8080/"
        },
        "id": "-LJJmaXddz9z",
        "outputId": "968b4798-2fbc-4d15-d028-8d62f362c33f"
      },
      "outputs": [
        {
          "output_type": "execute_result",
          "data": {
            "text/plain": [
              "['Mary', 'mary@hotmail.com', 28]"
            ]
          },
          "metadata": {},
          "execution_count": 6
        }
      ],
      "source": [
        "['Mary', 'mary@hotmail.com', 28]"
      ]
    },
    {
      "cell_type": "markdown",
      "metadata": {
        "id": "9mnIXPc_dz9z"
      },
      "source": [
        "##### ## Your Task ##"
      ]
    },
    {
      "cell_type": "code",
      "execution_count": 7,
      "metadata": {
        "id": "etFkkp62dz90"
      },
      "outputs": [],
      "source": [
        "def transform_user_list_to_dict(a_user):\n",
        "    return dict({\n",
        "        'name':a_user[0],\n",
        "        'email':a_user[1],\n",
        "        'age':a_user[2]\n",
        "    })"
      ]
    },
    {
      "cell_type": "markdown",
      "metadata": {
        "id": "y2HcC_opdz90"
      },
      "source": [
        "##### Examples:\n",
        "\n",
        "The following code"
      ]
    },
    {
      "cell_type": "code",
      "execution_count": 8,
      "metadata": {
        "colab": {
          "base_uri": "https://localhost:8080/"
        },
        "id": "1le0WcItdz90",
        "outputId": "91644a3c-2cc3-4a2b-ab6d-65fe2bc6da09"
      },
      "outputs": [
        {
          "output_type": "execute_result",
          "data": {
            "text/plain": [
              "{'name': 'Mary', 'email': 'mary@hotmail.com', 'age': 28}"
            ]
          },
          "metadata": {},
          "execution_count": 8
        }
      ],
      "source": [
        "transform_user_list_to_dict(['Mary', 'mary@hotmail.com', 28])"
      ]
    },
    {
      "cell_type": "markdown",
      "metadata": {
        "id": "8SwsOVrDdz90"
      },
      "source": [
        "should produce this output:"
      ]
    },
    {
      "cell_type": "code",
      "execution_count": 9,
      "metadata": {
        "colab": {
          "base_uri": "https://localhost:8080/"
        },
        "id": "hJ5FeLFHdz90",
        "outputId": "0cd0e16d-11bd-45e5-ed85-c82905a9a124"
      },
      "outputs": [
        {
          "output_type": "execute_result",
          "data": {
            "text/plain": [
              "{'name': 'Mary', 'email': 'mary@hotmail.com', 'age': 28}"
            ]
          },
          "metadata": {},
          "execution_count": 9
        }
      ],
      "source": [
        "{\n",
        "    'name': 'Mary',\n",
        "    'email': 'mary@hotmail.com',\n",
        "    'age': 28\n",
        "}"
      ]
    },
    {
      "cell_type": "markdown",
      "metadata": {
        "id": "uoIHLUgAdz90"
      },
      "source": [
        "##### == Tests =="
      ]
    },
    {
      "cell_type": "code",
      "execution_count": 10,
      "metadata": {
        "id": "oMkI7jBcdz91"
      },
      "outputs": [],
      "source": [
        "l1 = ['John', 'john@gmail.com', 31]\n",
        "\n",
        "assert transform_user_list_to_dict(l1) == {\n",
        "    'name': 'John',\n",
        "    'email': 'john@gmail.com',\n",
        "    'age': 31\n",
        "}"
      ]
    },
    {
      "cell_type": "code",
      "execution_count": 11,
      "metadata": {
        "id": "0l7VAuOodz91"
      },
      "outputs": [],
      "source": [
        "l2 = ['Mary', 'mary@hotmail.com', 28]\n",
        "\n",
        "assert transform_user_list_to_dict(l2) == {\n",
        "    'name': 'Mary',\n",
        "    'email': 'mary@hotmail.com',\n",
        "    'age': 28\n",
        "}"
      ]
    },
    {
      "cell_type": "markdown",
      "metadata": {
        "id": "HVhmkHiwdz91"
      },
      "source": [
        "---\n",
        "\n",
        "## 3. Transform multiple users to dictionary list\n",
        "\n",
        "We're now going to combine multiple dictionaries in a list. If we have 2 users in the form of lists:"
      ]
    },
    {
      "cell_type": "code",
      "execution_count": 12,
      "metadata": {
        "colab": {
          "base_uri": "https://localhost:8080/"
        },
        "id": "CpbnjvP7dz91",
        "outputId": "048a8d41-e90c-4fc7-ac5f-fc0a2ec482bb"
      },
      "outputs": [
        {
          "output_type": "execute_result",
          "data": {
            "text/plain": [
              "[['John', 'john@gmail.com', 31], ['Mary', 'mary@hotmail.com', 28]]"
            ]
          },
          "metadata": {},
          "execution_count": 12
        }
      ],
      "source": [
        "users = [\n",
        "    ['John', 'john@gmail.com', 31],\n",
        "    ['Mary', 'mary@hotmail.com', 28]\n",
        "]\n",
        "users"
      ]
    },
    {
      "cell_type": "markdown",
      "metadata": {
        "id": "uzwjENXddz91"
      },
      "source": [
        "we want to see them now represented as dictionaries:"
      ]
    },
    {
      "cell_type": "code",
      "execution_count": 13,
      "metadata": {
        "colab": {
          "base_uri": "https://localhost:8080/"
        },
        "id": "ouyxcGnadz91",
        "outputId": "8e4bf2cc-07db-4f4b-f6fd-09730304f710"
      },
      "outputs": [
        {
          "output_type": "execute_result",
          "data": {
            "text/plain": [
              "[{'name': 'John', 'email': 'john@gmail.com', 'age': 31},\n",
              " {'name': 'Mary', 'email': 'mary@hotmail.com', 'age': 28}]"
            ]
          },
          "metadata": {},
          "execution_count": 13
        }
      ],
      "source": [
        "[{\n",
        "    'name': 'John',\n",
        "    'email': 'john@gmail.com',\n",
        "    'age': 31\n",
        "}, {\n",
        "    'name': 'Mary',\n",
        "    'email': 'mary@hotmail.com',\n",
        "    'age': 28\n",
        "}]"
      ]
    },
    {
      "cell_type": "markdown",
      "metadata": {
        "id": "-1Ovya3bdz92"
      },
      "source": [
        "We transform a list of lists, into a list of dictonaries."
      ]
    },
    {
      "cell_type": "markdown",
      "metadata": {
        "id": "1z5Y7z3hdz92"
      },
      "source": [
        "##### ## Your Task ##"
      ]
    },
    {
      "cell_type": "code",
      "execution_count": 14,
      "metadata": {
        "id": "IqCD-pCEdz92"
      },
      "outputs": [],
      "source": [
        "def transform_multiple_users_to_dicts(multiple_users):\n",
        "  users=[]\n",
        "  for user in multiple_users:\n",
        "    users.append(transform_user_list_to_dict(user))\n",
        "  return users"
      ]
    },
    {
      "cell_type": "markdown",
      "metadata": {
        "id": "NgSVnDNudz92"
      },
      "source": [
        "##### Examples:\n",
        "\n",
        "The following code"
      ]
    },
    {
      "cell_type": "code",
      "execution_count": 15,
      "metadata": {
        "colab": {
          "base_uri": "https://localhost:8080/"
        },
        "id": "JD31eI0Adz93",
        "outputId": "013f61cb-bd31-40b4-81c0-6df4d405cff5"
      },
      "outputs": [
        {
          "output_type": "execute_result",
          "data": {
            "text/plain": [
              "[{'name': 'John', 'email': 'john@gmail.com', 'age': 31},\n",
              " {'name': 'Mary', 'email': 'mary@hotmail.com', 'age': 28}]"
            ]
          },
          "metadata": {},
          "execution_count": 15
        }
      ],
      "source": [
        "users = [\n",
        "    ['John', 'john@gmail.com', 31],\n",
        "    ['Mary', 'mary@hotmail.com', 28]\n",
        "]\n",
        "\n",
        "transform_multiple_users_to_dicts(users)"
      ]
    },
    {
      "cell_type": "markdown",
      "metadata": {
        "id": "pl-pS3bJdz93"
      },
      "source": [
        "should produce this output:"
      ]
    },
    {
      "cell_type": "code",
      "execution_count": 16,
      "metadata": {
        "colab": {
          "base_uri": "https://localhost:8080/"
        },
        "id": "joZhNSpydz93",
        "outputId": "38231985-69f6-43ca-fd34-2d8a5eb82698"
      },
      "outputs": [
        {
          "output_type": "execute_result",
          "data": {
            "text/plain": [
              "[{'name': 'John', 'email': 'john@gmail.com', 'age': 31},\n",
              " {'name': 'Mary', 'email': 'mary@hotmail.com', 'age': 28}]"
            ]
          },
          "metadata": {},
          "execution_count": 16
        }
      ],
      "source": [
        "[{\n",
        "    'name': 'John',\n",
        "    'email': 'john@gmail.com',\n",
        "    'age': 31\n",
        "}, {\n",
        "    'name': 'Mary',\n",
        "    'email': 'mary@hotmail.com',\n",
        "    'age': 28\n",
        "}]"
      ]
    },
    {
      "cell_type": "markdown",
      "metadata": {
        "id": "ENG1n41Wdz93"
      },
      "source": [
        "##### == Tests =="
      ]
    },
    {
      "cell_type": "code",
      "execution_count": 17,
      "metadata": {
        "id": "f9v17D7Qdz94"
      },
      "outputs": [],
      "source": [
        "users = [\n",
        "    ['John', 'john@gmail.com', 31],\n",
        "    ['Mary', 'mary@hotmail.com', 28],\n",
        "    ['Rose', 'rose@yahoo.com', 30]\n",
        "]\n",
        "\n",
        "users_as_dict = transform_multiple_users_to_dicts(users)\n",
        "\n",
        "assert users_as_dict == [{\n",
        "    'name': 'John',\n",
        "    'email': 'john@gmail.com',\n",
        "    'age': 31\n",
        "}, {\n",
        "    'name': 'Mary',\n",
        "    'email': 'mary@hotmail.com',\n",
        "    'age': 28\n",
        "}, {\n",
        "    'name': 'Rose',\n",
        "    'email': 'rose@yahoo.com',\n",
        "    'age': 30\n",
        "}]\n"
      ]
    },
    {
      "cell_type": "markdown",
      "metadata": {
        "id": "4SO4-mSFdz94"
      },
      "source": [
        "---\n",
        "\n",
        "## 4. Group users by email domain\n",
        "\n",
        "The function `group_users_by_email_domain` will receive a list of users as dictionaries, like the following one:"
      ]
    },
    {
      "cell_type": "code",
      "execution_count": 18,
      "metadata": {
        "colab": {
          "base_uri": "https://localhost:8080/"
        },
        "id": "HjwZjvKUdz94",
        "outputId": "cc1af73c-8833-4478-cebb-0c23de890127"
      },
      "outputs": [
        {
          "output_type": "execute_result",
          "data": {
            "text/plain": [
              "[{'name': 'John', 'email': 'john@gmail.com', 'age': 31},\n",
              " {'name': 'Mary', 'email': 'mary@hotmail.com', 'age': 28},\n",
              " {'name': 'Rose', 'email': 'Rose@gmail.com', 'age': 30}]"
            ]
          },
          "metadata": {},
          "execution_count": 18
        }
      ],
      "source": [
        "[{\n",
        "    'name': 'John',\n",
        "    'email': 'john@gmail.com',\n",
        "    'age': 31\n",
        "}, {\n",
        "    'name': 'Mary',\n",
        "    'email': 'mary@hotmail.com',\n",
        "    'age': 28\n",
        "}, {\n",
        "    'name': 'Rose',\n",
        "    'email': 'Rose@gmail.com',\n",
        "    'age': 30\n",
        "}]"
      ]
    },
    {
      "cell_type": "markdown",
      "metadata": {
        "id": "Yr4_0_FSdz95"
      },
      "source": [
        "and it should group them by the domain name of their email, something like:\n",
        "\n",
        "* gmail.com:\n",
        " * Rose\n",
        " * John\n",
        "* hotmail.com:\n",
        " * Mary\n",
        "\n",
        "Which in code looks like:"
      ]
    },
    {
      "cell_type": "code",
      "execution_count": 19,
      "metadata": {
        "colab": {
          "base_uri": "https://localhost:8080/"
        },
        "id": "MI_u5wowdz95",
        "outputId": "13bfd1df-d24b-4c25-fea0-003fb36d00cf"
      },
      "outputs": [
        {
          "output_type": "execute_result",
          "data": {
            "text/plain": [
              "{'gmail.com': [{'name': 'John', 'email': 'john@gmail.com', 'age': 31},\n",
              "  {'name': 'Rose', 'email': 'Rose@gmail.com', 'age': 30}],\n",
              " 'hotmail.com': [{'name': 'Mary', 'email': 'mary@hotmail.com', 'age': 28}]}"
            ]
          },
          "metadata": {},
          "execution_count": 19
        }
      ],
      "source": [
        "{\n",
        "    'gmail.com': [{\n",
        "        'name': 'John',\n",
        "        'email': 'john@gmail.com',\n",
        "        'age': 31\n",
        "    }, {\n",
        "        'name': 'Rose',\n",
        "        'email': 'Rose@gmail.com',\n",
        "        'age': 30\n",
        "    }],\n",
        "    'hotmail.com': [{\n",
        "        'name': 'Mary',\n",
        "        'email': 'mary@hotmail.com',\n",
        "        'age': 28\n",
        "    }]\n",
        "}"
      ]
    },
    {
      "cell_type": "markdown",
      "metadata": {
        "id": "DV1rsg4xdz-M"
      },
      "source": [
        "##### ## Your Task ##"
      ]
    },
    {
      "cell_type": "code",
      "execution_count": 20,
      "metadata": {
        "id": "sxU-rlCZdz-M"
      },
      "outputs": [],
      "source": [
        "def group_users_by_email_domain(multiple_users):\n",
        "    users_dict = {}\n",
        "    for user in multiple_users:\n",
        "        email_domain = user['email'].split('@')[1]\n",
        "\n",
        "        if email_domain not in users_dict:\n",
        "            users_dict[email_domain] = []\n",
        "\n",
        "        users_dict[email_domain].append(user)\n",
        "\n",
        "    return users_dict"
      ]
    },
    {
      "cell_type": "markdown",
      "metadata": {
        "id": "p2fz5awOdz-M"
      },
      "source": [
        "##### == Tests =="
      ]
    },
    {
      "cell_type": "code",
      "execution_count": 21,
      "metadata": {
        "id": "AnnKa9rUdz-M"
      },
      "outputs": [],
      "source": [
        "users = [{\n",
        "    'name': 'John',\n",
        "    'email': 'john@gmail.com',     # gmail\n",
        "    'age': 31\n",
        "}, {\n",
        "    'name': 'Mary',\n",
        "    'email': 'mary@hotmail.com',   # hotmail\n",
        "    'age': 28\n",
        "}, {\n",
        "    'name': 'Rose',\n",
        "    'email': 'rose@yahoo.com',     # yahoo\n",
        "    'age': 30\n",
        "}, {\n",
        "    'name': 'Jane',\n",
        "    'email': 'jane@gmail.com',     # gmail\n",
        "    'age': 25\n",
        "}, {\n",
        "    'name': 'Dustin',\n",
        "    'email': 'dustin@hotmail.com',  # hotmail\n",
        "    'age': 35\n",
        "}]\n",
        "\n",
        "users_grouped = group_users_by_email_domain(users)\n",
        "\n",
        "assert users_grouped == {\n",
        "    'gmail.com': [{\n",
        "        'name': 'John',\n",
        "        'email': 'john@gmail.com',     # gmail\n",
        "        'age': 31\n",
        "    }, {\n",
        "        'name': 'Jane',\n",
        "        'email': 'jane@gmail.com',     # gmail\n",
        "        'age': 25\n",
        "    }],\n",
        "    'hotmail.com': [{\n",
        "        'name': 'Mary',\n",
        "        'email': 'mary@hotmail.com',   # hotmail\n",
        "        'age': 28\n",
        "    }, {\n",
        "        'name': 'Dustin',\n",
        "        'email': 'dustin@hotmail.com',  # hotmail\n",
        "        'age': 35\n",
        "    }],\n",
        "    'yahoo.com': [{\n",
        "        'name': 'Rose',\n",
        "        'email': 'rose@yahoo.com',     # yahoo\n",
        "        'age': 30\n",
        "    }]\n",
        "}"
      ]
    },
    {
      "cell_type": "code",
      "execution_count": 22,
      "metadata": {
        "id": "JUZje9B7dz-N"
      },
      "outputs": [],
      "source": [
        "users = [{\n",
        "    'name': 'Jason',\n",
        "    'email': 'jason@rmotr.com',\n",
        "    'age': 61\n",
        "}]\n",
        "users_grouped = group_users_by_email_domain(users)\n",
        "\n",
        "assert users_grouped == {\n",
        "    'rmotr.com': [{\n",
        "        'name': 'Jason',\n",
        "        'email': 'jason@rmotr.com',\n",
        "        'age': 61\n",
        "    }]\n",
        "}\n"
      ]
    }
  ],
  "metadata": {
    "kernelspec": {
      "display_name": "Python 3",
      "language": "python",
      "name": "python3"
    },
    "language_info": {
      "codemirror_mode": {
        "name": "ipython",
        "version": 3
      },
      "file_extension": ".py",
      "mimetype": "text/x-python",
      "name": "python",
      "nbconvert_exporter": "python",
      "pygments_lexer": "ipython3",
      "version": "3.6.6"
    },
    "colab": {
      "provenance": []
    }
  },
  "nbformat": 4,
  "nbformat_minor": 0
}